{
  "cells": [
    {
      "cell_type": "markdown",
      "metadata": {
        "id": "view-in-github",
        "colab_type": "text"
      },
      "source": [
        "<a href=\"https://colab.research.google.com/github/guswns3396/PSYC-221-Project/blob/main/Segment.ipynb\" target=\"_parent\"><img src=\"https://colab.research.google.com/assets/colab-badge.svg\" alt=\"Open In Colab\"/></a>"
      ]
    },
    {
      "cell_type": "code",
      "source": [
        "!git clone https://github.com/guswns3396/PSYC-221-Project.git"
      ],
      "metadata": {
        "id": "RqryNYYlFZmw",
        "outputId": "4c927369-df27-4b64-ea9a-2b7e91b462ec",
        "colab": {
          "base_uri": "https://localhost:8080/"
        }
      },
      "id": "RqryNYYlFZmw",
      "execution_count": 1,
      "outputs": [
        {
          "output_type": "stream",
          "name": "stdout",
          "text": [
            "Cloning into 'PSYC-221-Project'...\n",
            "remote: Enumerating objects: 926, done.\u001b[K\n",
            "remote: Counting objects: 100% (292/292), done.\u001b[K\n",
            "remote: Compressing objects: 100% (289/289), done.\u001b[K\n",
            "remote: Total 926 (delta 13), reused 269 (delta 0), pack-reused 634\u001b[K\n",
            "Receiving objects: 100% (926/926), 2.52 GiB | 34.36 MiB/s, done.\n",
            "Resolving deltas: 100% (117/117), done.\n",
            "Updating files: 100% (733/733), done.\n"
          ]
        }
      ]
    },
    {
      "cell_type": "code",
      "execution_count": 2,
      "id": "5a01266a",
      "metadata": {
        "id": "5a01266a"
      },
      "outputs": [],
      "source": [
        "import os\n",
        "from pathlib import Path\n",
        "\n",
        "import nibabel as nib\n",
        "import numpy as np\n",
        "import pandas as pd\n",
        "import matplotlib.pyplot as plt\n",
        "\n",
        "import torch\n",
        "from torch.utils.data import Dataset"
      ]
    },
    {
      "cell_type": "markdown",
      "source": [
        "# Change Working Directory"
      ],
      "metadata": {
        "id": "skm4VTaIGc-n"
      },
      "id": "skm4VTaIGc-n"
    },
    {
      "cell_type": "code",
      "source": [
        "os.getcwd()"
      ],
      "metadata": {
        "id": "euNPfPkfGIID",
        "outputId": "4ff1c6a0-7f14-4813-a2ce-4f4255604302",
        "colab": {
          "base_uri": "https://localhost:8080/",
          "height": 35
        }
      },
      "id": "euNPfPkfGIID",
      "execution_count": 3,
      "outputs": [
        {
          "output_type": "execute_result",
          "data": {
            "text/plain": [
              "'/content'"
            ],
            "application/vnd.google.colaboratory.intrinsic+json": {
              "type": "string"
            }
          },
          "metadata": {},
          "execution_count": 3
        }
      ]
    },
    {
      "cell_type": "code",
      "source": [
        "os.chdir('PSYC-221-Project')"
      ],
      "metadata": {
        "id": "O2yd05XjN0_1"
      },
      "id": "O2yd05XjN0_1",
      "execution_count": 4,
      "outputs": []
    },
    {
      "cell_type": "code",
      "source": [
        "os.listdir()"
      ],
      "metadata": {
        "id": "xw9eZqktN53Q",
        "outputId": "1a09f247-002d-4630-c324-09c205a26241",
        "colab": {
          "base_uri": "https://localhost:8080/"
        }
      },
      "id": "xw9eZqktN53Q",
      "execution_count": 5,
      "outputs": [
        {
          "output_type": "execute_result",
          "data": {
            "text/plain": [
              "['.gitignore',\n",
              " '.git',\n",
              " 'README.md',\n",
              " 'brainmetshare-3',\n",
              " 'Segment.ipynb',\n",
              " 'Untitled1.ipynb']"
            ]
          },
          "metadata": {},
          "execution_count": 5
        }
      ]
    },
    {
      "cell_type": "markdown",
      "source": [
        "# Load Data"
      ],
      "metadata": {
        "id": "GN3BAAIBGjT7"
      },
      "id": "GN3BAAIBGjT7"
    },
    {
      "cell_type": "code",
      "execution_count": 6,
      "id": "a29a7bbd",
      "metadata": {
        "id": "a29a7bbd"
      },
      "outputs": [],
      "source": [
        "path_data = Path('brainmetshare-3')"
      ]
    },
    {
      "cell_type": "code",
      "execution_count": 7,
      "id": "08f0321d",
      "metadata": {
        "id": "08f0321d"
      },
      "outputs": [],
      "source": [
        "subjs = pd.Series(os.listdir(path_data))"
      ]
    },
    {
      "cell_type": "code",
      "execution_count": 8,
      "id": "1264c4cb",
      "metadata": {
        "id": "1264c4cb"
      },
      "outputs": [],
      "source": [
        "IMG_TYPES = {\n",
        "    'bravo': 0,\n",
        "    'flair': 1,\n",
        "    't1_gd': 2,\n",
        "    't1_pre': 3,\n",
        "    'seg': 4\n",
        "}"
      ]
    },
    {
      "cell_type": "code",
      "execution_count": null,
      "id": "ba23d803",
      "metadata": {
        "id": "ba23d803"
      },
      "outputs": [],
      "source": [
        "class CustomDataset(Dataset):\n",
        "    def __init__(self, img_dir):\n",
        "        self.img_dir = img_dir\n",
        "\n",
        "    def __len__(self):\n",
        "      pass\n",
        "\n",
        "    def __getitem__(self, idx):\n",
        "      pass"
      ]
    }
  ],
  "metadata": {
    "kernelspec": {
      "display_name": "Python 3 (ipykernel)",
      "language": "python",
      "name": "python3"
    },
    "language_info": {
      "codemirror_mode": {
        "name": "ipython",
        "version": 3
      },
      "file_extension": ".py",
      "mimetype": "text/x-python",
      "name": "python",
      "nbconvert_exporter": "python",
      "pygments_lexer": "ipython3",
      "version": "3.11.5"
    },
    "colab": {
      "provenance": [],
      "include_colab_link": true
    }
  },
  "nbformat": 4,
  "nbformat_minor": 5
}