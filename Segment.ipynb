{
  "cells": [
    {
      "cell_type": "markdown",
      "metadata": {
        "id": "view-in-github",
        "colab_type": "text"
      },
      "source": [
        "<a href=\"https://colab.research.google.com/github/guswns3396/PSYC-221-Project/blob/main/Segment.ipynb\" target=\"_parent\"><img src=\"https://colab.research.google.com/assets/colab-badge.svg\" alt=\"Open In Colab\"/></a>"
      ]
    },
    {
      "cell_type": "code",
      "source": [
        "from google.colab import drive\n",
        "drive.mount('/content/drive')"
      ],
      "metadata": {
        "id": "Q5GpsLKubH3y"
      },
      "id": "Q5GpsLKubH3y",
      "execution_count": null,
      "outputs": []
    },
    {
      "cell_type": "code",
      "source": [
        "%cd \"/content/drive/MyDrive/Colab Notebooks/PSYC221\""
      ],
      "metadata": {
        "id": "O2yd05XjN0_1"
      },
      "id": "O2yd05XjN0_1",
      "execution_count": null,
      "outputs": []
    },
    {
      "cell_type": "code",
      "source": [
        "!ls"
      ],
      "metadata": {
        "id": "xw9eZqktN53Q"
      },
      "id": "xw9eZqktN53Q",
      "execution_count": null,
      "outputs": []
    },
    {
      "cell_type": "markdown",
      "source": [
        "# Install & Import Dependencies"
      ],
      "metadata": {
        "id": "hpRHy7MQAH0q"
      },
      "id": "hpRHy7MQAH0q"
    },
    {
      "cell_type": "code",
      "source": [
        "!pip install monai"
      ],
      "metadata": {
        "id": "ASJXEkc4Xo5e"
      },
      "id": "ASJXEkc4Xo5e",
      "execution_count": null,
      "outputs": []
    },
    {
      "cell_type": "code",
      "source": [
        "import logging\n",
        "import os\n",
        "import sys\n",
        "from glob import glob\n",
        "from abc import ABC, abstractmethod\n",
        "\n",
        "import numpy as np\n",
        "import pandas as pd\n",
        "from tqdm import tqdm\n",
        "\n",
        "import matplotlib.pyplot as plt\n",
        "import seaborn as sns\n",
        "\n",
        "import nibabel as nib\n",
        "\n",
        "import monai\n",
        "import monai.transforms as mt\n",
        "from monai.data import PersistentDataset, Dataset, DataLoader, decollate_batch\n",
        "from monai.apps import CrossValidation\n",
        "from monai.inferers import sliding_window_inference\n",
        "from monai.utils import set_determinism\n",
        "\n",
        "import torch"
      ],
      "metadata": {
        "id": "cgz1UzGxAAZp"
      },
      "id": "cgz1UzGxAAZp",
      "execution_count": null,
      "outputs": []
    },
    {
      "cell_type": "code",
      "source": [
        "os.cpu_count()"
      ],
      "metadata": {
        "id": "jpWj_qLSi6Mc"
      },
      "id": "jpWj_qLSi6Mc",
      "execution_count": null,
      "outputs": []
    },
    {
      "cell_type": "code",
      "source": [
        "available_gpus = [torch.cuda.device(i) for i in range(torch.cuda.device_count())]\n",
        "available_gpus"
      ],
      "metadata": {
        "id": "GOzScJBwiNCA"
      },
      "id": "GOzScJBwiNCA",
      "execution_count": null,
      "outputs": []
    },
    {
      "cell_type": "code",
      "source": [
        "set_determinism(seed=0)"
      ],
      "metadata": {
        "id": "fhC342sKE-Ee"
      },
      "id": "fhC342sKE-Ee",
      "execution_count": null,
      "outputs": []
    },
    {
      "cell_type": "code",
      "source": [
        "root_dir = '/content/drive/MyDrive/Colab Notebooks/PSYC221'"
      ],
      "metadata": {
        "id": "eYXAWxZW10GM"
      },
      "id": "eYXAWxZW10GM",
      "execution_count": null,
      "outputs": []
    },
    {
      "cell_type": "markdown",
      "source": [
        "# Get Data"
      ],
      "metadata": {
        "id": "GN3BAAIBGjT7"
      },
      "id": "GN3BAAIBGjT7"
    },
    {
      "cell_type": "code",
      "source": [
        "IMG_TYPES = {\n",
        "  'bravo': 0,\n",
        "  'flair': 1,\n",
        "  't1_gd': 2,\n",
        "  't1_pre': 3\n",
        "}"
      ],
      "metadata": {
        "id": "SEYlR-y-hEyu"
      },
      "id": "SEYlR-y-hEyu",
      "execution_count": null,
      "outputs": []
    },
    {
      "cell_type": "code",
      "source": [
        "def get_data_dicts(path):\n",
        "  data = [\n",
        "    {\n",
        "      'img': [os.path.join(subj, img_type + '.nii.gz') for img_type in IMG_TYPES],\n",
        "      'seg': os.path.join(subj, 'seg.nii.gz')\n",
        "    }\n",
        "    for subj in glob(os.path.join(path, 'Mets_*'))\n",
        "  ]\n",
        "  return data"
      ],
      "metadata": {
        "id": "U76SpNPt0OZe"
      },
      "id": "U76SpNPt0OZe",
      "execution_count": null,
      "outputs": []
    },
    {
      "cell_type": "code",
      "source": [
        "def fix_meta(metatensor):\n",
        "  \"\"\"\n",
        "  fix meta information of metatensor after stacking\n",
        "  \"\"\"\n",
        "  # fix img meta\n",
        "  a = [metatensor.ndim, *metatensor.shape[1:], metatensor.shape[0]]\n",
        "  for i, val in enumerate(a):\n",
        "    metatensor.meta['dim'][i] = val\n",
        "  metatensor.meta['original_channel_dim'] = -1\n",
        "  return metatensor"
      ],
      "metadata": {
        "id": "2xi1bmdx4HVf"
      },
      "id": "2xi1bmdx4HVf",
      "execution_count": null,
      "outputs": []
    },
    {
      "cell_type": "code",
      "source": [
        "def print_data(metatensor):\n",
        "  print(metatensor.shape)\n",
        "  print(metatensor.meta)\n",
        "  return metatensor"
      ],
      "metadata": {
        "id": "nSojSNFB-z4i"
      },
      "id": "nSojSNFB-z4i",
      "execution_count": null,
      "outputs": []
    },
    {
      "cell_type": "code",
      "execution_count": null,
      "id": "a29a7bbd",
      "metadata": {
        "id": "a29a7bbd"
      },
      "outputs": [],
      "source": [
        "path_train = os.path.join(root_dir, 'brainmetshare-3/train')"
      ]
    },
    {
      "cell_type": "code",
      "source": [
        "data_dicts = get_data_dicts(path_train)"
      ],
      "metadata": {
        "id": "ZjygWPYGz4h-"
      },
      "id": "ZjygWPYGz4h-",
      "execution_count": null,
      "outputs": []
    },
    {
      "cell_type": "markdown",
      "source": [
        "# Data Exploration"
      ],
      "metadata": {
        "id": "jQNIxi3nCruN"
      },
      "id": "jQNIxi3nCruN"
    },
    {
      "cell_type": "code",
      "source": [
        "train_ds = Dataset(\n",
        "  data_dicts,\n",
        "  transform=mt.Compose([\n",
        "    # load images\n",
        "    mt.LoadImageD(['img', 'seg']),\n",
        "  ])\n",
        ")"
      ],
      "metadata": {
        "id": "Z7HRPP-Y4I_-"
      },
      "id": "Z7HRPP-Y4I_-",
      "execution_count": null,
      "outputs": []
    },
    {
      "cell_type": "code",
      "source": [
        "def get_imbalance(ds):\n",
        "  ones = 0\n",
        "  zeroes = 0\n",
        "  for d in tqdm(ds):\n",
        "    ones += (d['seg'] == 1).sum()\n",
        "    zeroes += (d['seg'] == 0).sum()\n",
        "  return zeroes / ones"
      ],
      "metadata": {
        "id": "5X-xZlPjyrRD"
      },
      "execution_count": null,
      "outputs": [],
      "id": "5X-xZlPjyrRD"
    },
    {
      "cell_type": "code",
      "source": [
        "# # look at imbalance of classes\n",
        "# ratio = get_imbalance(train_ds)\n",
        "# ratio"
      ],
      "metadata": {
        "id": "TQjIny76350_"
      },
      "id": "TQjIny76350_",
      "execution_count": null,
      "outputs": []
    },
    {
      "cell_type": "code",
      "source": [
        "ratio = torch.Tensor([2500])\n",
        "ratio"
      ],
      "metadata": {
        "id": "nmCZvNTj50Ll"
      },
      "id": "nmCZvNTj50Ll",
      "execution_count": null,
      "outputs": []
    },
    {
      "cell_type": "markdown",
      "source": [
        "# Load & Pre-Process Data"
      ],
      "metadata": {
        "id": "MMCIztiZ592a"
      },
      "id": "MMCIztiZ592a"
    },
    {
      "cell_type": "code",
      "source": [
        "KEYS = ('img', 'seg')\n",
        "k = 4 # divisible\n",
        "\n",
        "xform_train = mt.Compose([\n",
        "  # load images\n",
        "  mt.LoadImageD(KEYS),\n",
        "  # make channel the first dimension / add channel dimension if necessary\n",
        "  mt.EnsureChannelFirstD(KEYS),\n",
        "  # fix meta\n",
        "  mt.LambdaD(KEYS, fix_meta),\n",
        "  # print data to ensure fix\n",
        "  # mt.LambdaD(KEYS, print_data),\n",
        "  # make sure tensor type\n",
        "  mt.EnsureTypeD(keys=KEYS),\n",
        "  # make sure all have same orientation (axcode)\n",
        "  mt.Orientationd(keys=KEYS, axcodes=\"RAS\"),\n",
        "  mt.Spacingd(\n",
        "      keys=KEYS,\n",
        "      pixdim=(1.0, 1.0, 1.0),\n",
        "      mode=(\"bilinear\", \"nearest\"),\n",
        "  ),\n",
        "  # augment data to be invariant to orientation\n",
        "  # mt.RandFlipd(keys=KEYS, prob=0.5, spatial_axis=0),\n",
        "  # mt.RandFlipd(keys=KEYS, prob=0.5, spatial_axis=1),\n",
        "  # mt.RandFlipd(keys=KEYS, prob=0.5, spatial_axis=2),\n",
        "  # normalize intensity\n",
        "  mt.NormalizeIntensityd(keys=\"img\", nonzero=True, channel_wise=True),\n",
        "  # augment data to be invariant to intensity shift or scale\n",
        "  # mt.RandScaleIntensityd(keys=\"img\", factors=0.1, prob=0.1),\n",
        "  # mt.RandShiftIntensityd(keys=\"img\", offsets=0.1, prob=0.1),\n",
        "  # pad data to be divisible\n",
        "  mt.DivisiblePadD(keys=KEYS, k=k),\n",
        "])\n",
        "\n",
        "xform_val = mt.Compose([\n",
        "  # load images\n",
        "  mt.LoadImageD(KEYS),\n",
        "  # make channel the first dimension / add channel dimension if necessary\n",
        "  mt.EnsureChannelFirstD(KEYS),\n",
        "  # fix meta\n",
        "  mt.LambdaD(KEYS, fix_meta),\n",
        "  # print data to ensure fix\n",
        "  # mt.LambdaD(KEYS, print_data),\n",
        "  # make sure tensor type\n",
        "  mt.EnsureTypeD(keys=KEYS),\n",
        "  # make sure all have same orientation (axcode)\n",
        "  mt.Orientationd(keys=KEYS, axcodes=\"RAS\"),\n",
        "  mt.Spacingd(\n",
        "      keys=KEYS,\n",
        "      pixdim=(1.0, 1.0, 1.0),\n",
        "      mode=(\"bilinear\", \"nearest\"),\n",
        "  ),\n",
        "  # normalize intensity\n",
        "  mt.NormalizeIntensityd(keys=\"img\", nonzero=True, channel_wise=True),\n",
        "  # pad data to be divisible\n",
        "  mt.DivisiblePadD(keys=KEYS, k=k),\n",
        "])"
      ],
      "metadata": {
        "id": "XpZnDnTiAWZP"
      },
      "id": "XpZnDnTiAWZP",
      "execution_count": null,
      "outputs": []
    },
    {
      "cell_type": "code",
      "source": [
        "# use PersistentDataset so deterministic preprocessing operations aren't repeated\n",
        "# slow initialization, fast retrieval\n",
        "# cache stored in disk not memory\n",
        "class MRIDataset(ABC, PersistentDataset):\n",
        "    \"\"\"\n",
        "    Base class to generate cross validation datasets.\n",
        "    \"\"\"\n",
        "\n",
        "    def __init__(\n",
        "        self,\n",
        "        data,\n",
        "        transform,\n",
        "        **kwargs\n",
        "    ) -> None:\n",
        "        data = self._split_datalist(datalist=data)\n",
        "        super().__init__(data, transform, **kwargs)\n",
        "\n",
        "    @abstractmethod\n",
        "    def _split_datalist(self, datalist):\n",
        "        raise NotImplementedError(f\"Subclass {self.__class__.__name__} must implement this method.\")"
      ],
      "metadata": {
        "id": "_9MfS7xPLSgl"
      },
      "id": "_9MfS7xPLSgl",
      "execution_count": null,
      "outputs": []
    },
    {
      "cell_type": "code",
      "source": [
        "# k-fold cross validation\n",
        "num = 2\n",
        "folds = list(range(num))\n",
        "\n",
        "cache_dir = os.path.join(root_dir, 'cache_dir')\n",
        "\n",
        "cvdataset = CrossValidation(\n",
        "    dataset_cls=MRIDataset,\n",
        "    data=data_dicts[:2], # subset data for Colab\n",
        "    nfolds=num,\n",
        "    transform=xform_train,\n",
        "    cache_dir=cache_dir\n",
        ")"
      ],
      "metadata": {
        "id": "qYPLBTXwLzwQ"
      },
      "id": "qYPLBTXwLzwQ",
      "execution_count": null,
      "outputs": []
    },
    {
      "cell_type": "code",
      "source": [
        "# clear cache\n",
        "for c in glob(os.path.join(cache_dir, '*')):\n",
        "  os.remove(c)"
      ],
      "metadata": {
        "id": "hrEmxiH9ULRP"
      },
      "id": "hrEmxiH9ULRP",
      "execution_count": null,
      "outputs": []
    },
    {
      "cell_type": "code",
      "source": [
        "num_workers=0\n",
        "batch_size=1\n",
        "\n",
        "# get datasets\n",
        "train_dss = [cvdataset.get_dataset(folds=folds[0:i] + folds[(i + 1) :]) for i in folds]\n",
        "val_dss = [cvdataset.get_dataset(folds=i, transform=xform_val) for i in folds]\n",
        "\n",
        "# get loaders & set batch size, number of workers, shuffle\n",
        "train_loaders = [DataLoader(train_dss[i], batch_size=batch_size, shuffle=True, num_workers=num_workers) for i in folds]\n",
        "val_loaders = [DataLoader(val_dss[i], batch_size=batch_size, num_workers=num_workers) for i in folds]"
      ],
      "metadata": {
        "id": "VIKbmsCjMhC0"
      },
      "id": "VIKbmsCjMhC0",
      "execution_count": null,
      "outputs": []
    },
    {
      "cell_type": "markdown",
      "source": [
        "# Visualize Data"
      ],
      "metadata": {
        "id": "WpXvqFmWDnOs"
      },
      "id": "WpXvqFmWDnOs"
    },
    {
      "cell_type": "code",
      "source": [
        "ds_idx = 0\n",
        "subj_idx = 0\n",
        "\n",
        "data = train_dss[ds_idx][subj_idx]\n",
        "slice_id = np.argmax(data['seg'][0].sum(axis=[0,1])) # slice with most metastases\n",
        "\n",
        "# visualize a slice from each image modality with segmentation overlay\n",
        "print(f\"subject: {data['img'].meta['filename_or_obj']}\")\n",
        "print(f\"image shape: {data['img'].shape}\")\n",
        "print(f\"segment shape: {data['seg'].shape}\")\n",
        "plt.figure(\"image\", (24, 6))\n",
        "for i, img_type in enumerate(IMG_TYPES):\n",
        "    plt.subplot(1, len(IMG_TYPES), i + 1)\n",
        "    plt.title(f\"image channel {img_type}\")\n",
        "    plt.imshow(data['img'][IMG_TYPES[img_type], :, :, slice_id].detach().cpu(),  cmap=\"gray\")\n",
        "    plt.imshow(data['seg'][0, :, :, slice_id].detach().cpu(), cmap='jet', alpha=0.2) # interpolation='none'\n",
        "plt.show()"
      ],
      "metadata": {
        "id": "MpophQYg7raU"
      },
      "id": "MpophQYg7raU",
      "execution_count": null,
      "outputs": []
    },
    {
      "cell_type": "markdown",
      "source": [
        "# Implement Model"
      ],
      "metadata": {
        "id": "QaV_bKNv52qq"
      },
      "id": "QaV_bKNv52qq"
    },
    {
      "cell_type": "code",
      "source": [
        "# class Spec:\n",
        "#   def __init__(self, constr, **kwargs):\n",
        "#     self.constr = constr\n",
        "#     self.kwargs = kwargs\n",
        "\n",
        "#   def __call__(self):\n",
        "#     raise NotImplementedError\n",
        "\n",
        "# class ModelSpec(Spec):\n",
        "#   def __init__(self, const, **kwargs):\n",
        "#     super().__init__(const, **kwargs)\n",
        "#   def __call__(self):\n",
        "#     return self.constr(**self.kwargs)\n",
        "\n",
        "# class LossSpec(Spec):\n",
        "#   def __init__(self, const, **kwargs):\n",
        "#     super().__init__(const, **kwargs)\n",
        "#   def __call__(self):\n",
        "#     return self.constr(**self.kwargs)\n",
        "\n",
        "# class OptSpec(Spec):\n",
        "#   def __init__(self, const, **kwargs):\n",
        "#     super().__init__(const, **kwargs)\n",
        "#   def __call__(self, params):\n",
        "#     return self.constr(params=params, **self.kwargs)\n",
        "\n",
        "# class SpecComb:\n",
        "#   def __init__(self, model_spec, loss_spec, opt_spec):\n",
        "#     self.model_spec = model_spec\n",
        "#     self.loss_spec = loss_spec\n",
        "#     self.opt_spec = opt_spec\n",
        "\n",
        "#   def __call__(self):\n",
        "#     model = self.model_spec().to(device)\n",
        "#     loss = self.loss_spec()\n",
        "#     opt = self.opt_spec(model.parameters())\n",
        "\n",
        "#     return model, loss, opt"
      ],
      "metadata": {
        "id": "O541sMjkDh1G"
      },
      "id": "O541sMjkDh1G",
      "execution_count": null,
      "outputs": []
    },
    {
      "cell_type": "code",
      "source": [
        "# spec_combs = []"
      ],
      "metadata": {
        "id": "EMIrmvsHLjFC"
      },
      "id": "EMIrmvsHLjFC",
      "execution_count": null,
      "outputs": []
    },
    {
      "cell_type": "code",
      "source": [
        "# spec_comb = SpecComb(\n",
        "#   ModelSpec(\n",
        "#       monai.networks.nets.UNet,\n",
        "#       # 3D\n",
        "#       spatial_dims=3,\n",
        "#       # 4 modalities\n",
        "#       in_channels=4,\n",
        "#       # 1 channel for output\n",
        "#       out_channels=1,\n",
        "#       # layers\n",
        "#       channels=(16, 32),\n",
        "#       strides=(2,),\n",
        "#       kernel_size=3,\n",
        "#       up_kernel_size=3,\n",
        "#       # num_res_units=2,\n",
        "#       act='PRELU',\n",
        "#       # norm=monai.networks.layers.Norm.BATCH,\n",
        "#       # dropout=0,\n",
        "#       # bias=True,\n",
        "#       adn_ordering='NDA'\n",
        "#   ),\n",
        "#   LossSpec(\n",
        "#       monai.losses.DiceLoss\n",
        "#   ),\n",
        "#   OptSpec(\n",
        "#       torch.optim.Adam,\n",
        "#       lr=1e-2\n",
        "#   )\n",
        "# )"
      ],
      "metadata": {
        "id": "1_1NiOa0D5V9"
      },
      "id": "1_1NiOa0D5V9",
      "execution_count": null,
      "outputs": []
    },
    {
      "cell_type": "code",
      "source": [
        "# spec_combs.append(spec_comb)"
      ],
      "metadata": {
        "id": "HQaGuEgSLlE9"
      },
      "id": "HQaGuEgSLlE9",
      "execution_count": null,
      "outputs": []
    },
    {
      "cell_type": "markdown",
      "source": [
        "# Training"
      ],
      "metadata": {
        "id": "Bmq4vd7M6AlY"
      },
      "id": "Bmq4vd7M6AlY"
    },
    {
      "cell_type": "code",
      "source": [
        "device = torch.device('cuda' if torch.cuda.is_available() else 'cpu')\n",
        "print('Using device:', device)"
      ],
      "metadata": {
        "id": "zufneUENWSo7"
      },
      "id": "zufneUENWSo7",
      "execution_count": null,
      "outputs": []
    },
    {
      "cell_type": "code",
      "source": [
        "max_epochs = 10\n",
        "val_interval = 1 # validate every val_interval epochs\n",
        "\n",
        "roi_size = (120, 120, 76)\n",
        "sw_batch_size = 4\n",
        "\n",
        "post_pred = mt.Compose([mt.Activations(sigmoid=True), mt.AsDiscrete(threshold=0.5)])\n",
        "post_label = mt.Compose([mt.AsDiscrete()])"
      ],
      "metadata": {
        "id": "SQ9UJmvG06TN"
      },
      "id": "SQ9UJmvG06TN",
      "execution_count": null,
      "outputs": []
    },
    {
      "cell_type": "markdown",
      "source": [
        "[decollate_batch](https://github.com/Project-MONAI/tutorials/blob/main/modules/decollate_batch.ipynb)"
      ],
      "metadata": {
        "id": "_t7mGQUJ_LHh"
      },
      "id": "_t7mGQUJ_LHh"
    },
    {
      "cell_type": "code",
      "source": [
        "# configure network\n",
        "model = monai.networks.nets.UNet(\n",
        "    spatial_dims=3, # 3D\n",
        "    in_channels=4, # 4 modalities\n",
        "    out_channels=1, # 1 channel for output\n",
        "    channels=(16, 32), # layers\n",
        "    strides=(2,),\n",
        "    kernel_size=3,\n",
        "    up_kernel_size=3,\n",
        "    # num_res_units=2,\n",
        "    act='PRELU',\n",
        "    # norm=monai.networks.layers.Norm.BATCH,\n",
        "    # dropout=0,\n",
        "    # bias=True,\n",
        "    adn_ordering='NDA'\n",
        ").to(device)\n",
        "# set loss, optimizer, metric\n",
        "# loss_function = monai.losses.DiceCELoss(sigmoid=True, weight=ratio)\n",
        "loss_function = torch.nn.BCEWithLogitsLoss(weight=ratio)\n",
        "optimizer = torch.optim.Adam(model.parameters(), 1e-2)\n",
        "metric_function = monai.metrics.DiceMetric(include_background=False, reduction=\"mean\")\n",
        "\n",
        "# initialize variables for tracking\n",
        "best_metric = -1\n",
        "best_metric_epoch = -1\n",
        "epoch_loss_values = []\n",
        "metric_values = []\n",
        "\n",
        "# iterate over epochs\n",
        "for epoch in range(max_epochs):\n",
        "    print(\"-\" * 10)\n",
        "    print(f\"epoch {epoch + 1}/{max_epochs}\")\n",
        "    # set to train mode\n",
        "    model.train()\n",
        "    # initialize loss\n",
        "    epoch_loss = 0\n",
        "    step = 0\n",
        "\n",
        "    # batch train\n",
        "    for batch_data in train_loaders[0]:\n",
        "        step += 1\n",
        "        # load data & move to device\n",
        "        inputs, labels = (\n",
        "            batch_data[\"img\"].to(device),\n",
        "            batch_data[\"seg\"].to(device),\n",
        "        )\n",
        "        # zero grad\n",
        "        optimizer.zero_grad()\n",
        "        # forward pass\n",
        "        outputs = model(inputs)\n",
        "        # get loss\n",
        "        loss = loss_function(outputs, labels)\n",
        "        # backward pass\n",
        "        loss.backward()\n",
        "        # update weights\n",
        "        optimizer.step()\n",
        "        # running loss for epoch\n",
        "        epoch_loss += loss.item()\n",
        "        print(f\"{step}/{len(train_dss[0]) // train_loaders[0].batch_size}, \" f\"train_loss: {loss.item():.4f}\")\n",
        "    # average loss over batches for epoch\n",
        "    epoch_loss /= step\n",
        "    # track epoch losses\n",
        "    epoch_loss_values.append(epoch_loss)\n",
        "    print(f\"epoch {epoch + 1} average loss: {epoch_loss:.4f}\")\n",
        "\n",
        "    # validate\n",
        "    if (epoch + 1) % val_interval == 0:\n",
        "        # set model to evaulation mode\n",
        "        model.eval()\n",
        "        # disable gradiant computation\n",
        "        with torch.no_grad():\n",
        "            # iterate over validation data\n",
        "            for val_data in val_loaders[0]:\n",
        "                # load validation data\n",
        "                val_inputs, val_labels = (\n",
        "                    val_data[\"img\"].to(device),\n",
        "                    val_data[\"seg\"].to(device),\n",
        "                )\n",
        "                # get output using sliding window inference\n",
        "                val_outputs = sliding_window_inference(val_inputs, roi_size, batch_size, model, overlap=0.25)\n",
        "                # turn batch into list of images\n",
        "                val_outputs = [post_pred(i) for i in decollate_batch(val_outputs)]\n",
        "                val_labels = [post_label(i) for i in decollate_batch(val_labels)]\n",
        "                # compute metric for current iteration\n",
        "                metric_function(y_pred=val_outputs, y=val_labels)\n",
        "\n",
        "            # aggregate the final mean dice result\n",
        "            metric = metric_function.aggregate().item()\n",
        "            # reset the status for next validation round\n",
        "            metric_function.reset()\n",
        "            # track final metric result\n",
        "            metric_values.append(metric)\n",
        "\n",
        "            # update model if better performance\n",
        "            if metric > best_metric:\n",
        "                best_metric = metric\n",
        "                best_metric_epoch = epoch + 1\n",
        "                torch.save(model.state_dict(), os.path.join(root_dir, \"best_metric_model.pth\"))\n",
        "                print(\"saved new best metric model\")\n",
        "            print(\n",
        "                f\"current epoch: {epoch + 1} current mean dice: {metric:.4f}\"\n",
        "                f\"\\nbest mean dice: {best_metric:.4f} \"\n",
        "                f\"at epoch: {best_metric_epoch}\"\n",
        "            )"
      ],
      "metadata": {
        "id": "aIyaH_YFfjur"
      },
      "id": "aIyaH_YFfjur",
      "execution_count": null,
      "outputs": []
    },
    {
      "cell_type": "code",
      "source": [
        "print(f\"train completed, best_metric: {best_metric:.4f} \" f\"at epoch: {best_metric_epoch}\")"
      ],
      "metadata": {
        "id": "1REmIFqG4hdL"
      },
      "id": "1REmIFqG4hdL",
      "execution_count": null,
      "outputs": []
    },
    {
      "cell_type": "code",
      "source": [
        "# Delete cache\n",
        "import shutil\n",
        "shutil.rmtree(cache_dir)"
      ],
      "metadata": {
        "id": "MJIXa03QV1vJ"
      },
      "id": "MJIXa03QV1vJ",
      "execution_count": null,
      "outputs": []
    },
    {
      "cell_type": "markdown",
      "source": [
        "# Plot Loss & Metric"
      ],
      "metadata": {
        "id": "7PdeoOhdV2Lw"
      },
      "id": "7PdeoOhdV2Lw"
    },
    {
      "cell_type": "code",
      "source": [
        "plt.figure(\"train\", (12, 6))\n",
        "plt.subplot(1, 2, 1)\n",
        "plt.title(\"Epoch Average Loss\")\n",
        "x = [i + 1 for i in range(len(epoch_loss_values))]\n",
        "y = epoch_loss_values\n",
        "plt.xlabel(\"epoch\")\n",
        "plt.plot(x, y, color=\"red\")\n",
        "plt.subplot(1, 2, 2)\n",
        "plt.title(\"Val Mean Dice\")\n",
        "x = [val_interval * (i + 1) for i in range(len(metric_values))]\n",
        "y = metric_values\n",
        "plt.xlabel(\"epoch\")\n",
        "plt.plot(x, y, color=\"green\")\n",
        "plt.show()"
      ],
      "metadata": {
        "id": "Fab1bik8O8yv"
      },
      "id": "Fab1bik8O8yv",
      "execution_count": null,
      "outputs": []
    },
    {
      "cell_type": "markdown",
      "source": [
        "# Inference"
      ],
      "metadata": {
        "id": "rVOwXOQbOlws"
      },
      "id": "rVOwXOQbOlws"
    },
    {
      "cell_type": "code",
      "source": [
        "input = ..."
      ],
      "metadata": {
        "id": "e4jGHQDlPcS8"
      },
      "id": "e4jGHQDlPcS8",
      "execution_count": null,
      "outputs": []
    },
    {
      "cell_type": "code",
      "source": [
        "model.load_state_dict(torch.load(os.path.join(root_dir, \"best_metric_model.pth\")))\n",
        "model.eval()\n",
        "with torch.no_grad():\n",
        "  input = input.to(device)\n",
        "  output = sliding_window_inference(input, roi_size, batch_size, model, overlap=0.25)\n",
        "  output = post_pred(output)"
      ],
      "metadata": {
        "id": "nwK7IQ2EWRyn"
      },
      "id": "nwK7IQ2EWRyn",
      "execution_count": null,
      "outputs": []
    }
  ],
  "metadata": {
    "kernelspec": {
      "display_name": "Python 3",
      "name": "python3"
    },
    "language_info": {
      "codemirror_mode": {
        "name": "ipython",
        "version": 3
      },
      "file_extension": ".py",
      "mimetype": "text/x-python",
      "name": "python",
      "nbconvert_exporter": "python",
      "pygments_lexer": "ipython3",
      "version": "3.11.5"
    },
    "colab": {
      "provenance": [],
      "gpuType": "T4",
      "include_colab_link": true
    },
    "accelerator": "GPU"
  },
  "nbformat": 4,
  "nbformat_minor": 5
}