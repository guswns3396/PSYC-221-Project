{
  "cells": [
    {
      "cell_type": "markdown",
      "metadata": {
        "id": "view-in-github",
        "colab_type": "text"
      },
      "source": [
        "<a href=\"https://colab.research.google.com/github/guswns3396/PSYC-221-Project/blob/main/Segment.ipynb\" target=\"_parent\"><img src=\"https://colab.research.google.com/assets/colab-badge.svg\" alt=\"Open In Colab\"/></a>"
      ]
    },
    {
      "cell_type": "code",
      "source": [
        "# !git clone https://github.com/guswns3396/PSYC-221-Project.git"
      ],
      "metadata": {
        "id": "RqryNYYlFZmw"
      },
      "id": "RqryNYYlFZmw",
      "execution_count": 17,
      "outputs": []
    },
    {
      "cell_type": "code",
      "execution_count": 18,
      "id": "5a01266a",
      "metadata": {
        "id": "5a01266a"
      },
      "outputs": [],
      "source": [
        "import os\n",
        "from pathlib import Path\n",
        "\n",
        "import nibabel as nib\n",
        "import numpy as np\n",
        "import pandas as pd\n",
        "import matplotlib.pyplot as plt\n",
        "\n",
        "import torch\n",
        "from torch.utils.data import Dataset"
      ]
    },
    {
      "cell_type": "markdown",
      "source": [
        "# Change Working Directory"
      ],
      "metadata": {
        "id": "skm4VTaIGc-n"
      },
      "id": "skm4VTaIGc-n"
    },
    {
      "cell_type": "code",
      "source": [
        "os.getcwd()"
      ],
      "metadata": {
        "id": "euNPfPkfGIID",
        "outputId": "3736e021-e3a1-4ef1-ace6-f92eac869346",
        "colab": {
          "base_uri": "https://localhost:8080/",
          "height": 35
        }
      },
      "id": "euNPfPkfGIID",
      "execution_count": 19,
      "outputs": [
        {
          "output_type": "execute_result",
          "data": {
            "text/plain": [
              "'/content/PSYC-221-Project'"
            ],
            "application/vnd.google.colaboratory.intrinsic+json": {
              "type": "string"
            }
          },
          "metadata": {},
          "execution_count": 19
        }
      ]
    },
    {
      "cell_type": "markdown",
      "source": [
        "# Load Data"
      ],
      "metadata": {
        "id": "GN3BAAIBGjT7"
      },
      "id": "GN3BAAIBGjT7"
    },
    {
      "cell_type": "code",
      "execution_count": 20,
      "id": "a29a7bbd",
      "metadata": {
        "id": "a29a7bbd"
      },
      "outputs": [],
      "source": [
        "path_data = Path('brainmetshare-3')"
      ]
    },
    {
      "cell_type": "code",
      "execution_count": 21,
      "id": "08f0321d",
      "metadata": {
        "id": "08f0321d"
      },
      "outputs": [],
      "source": [
        "subjs = pd.Series(os.listdir(path_data))"
      ]
    },
    {
      "cell_type": "code",
      "execution_count": 22,
      "id": "1264c4cb",
      "metadata": {
        "id": "1264c4cb"
      },
      "outputs": [],
      "source": [
        "IMG_TYPES = {\n",
        "    'bravo': 0,\n",
        "    'flair': 1,\n",
        "    't1_gd': 2,\n",
        "    't1_pre': 3,\n",
        "    'seg': 4\n",
        "}"
      ]
    },
    {
      "cell_type": "code",
      "execution_count": null,
      "id": "ba23d803",
      "metadata": {
        "id": "ba23d803"
      },
      "outputs": [],
      "source": []
    }
  ],
  "metadata": {
    "kernelspec": {
      "display_name": "Python 3 (ipykernel)",
      "language": "python",
      "name": "python3"
    },
    "language_info": {
      "codemirror_mode": {
        "name": "ipython",
        "version": 3
      },
      "file_extension": ".py",
      "mimetype": "text/x-python",
      "name": "python",
      "nbconvert_exporter": "python",
      "pygments_lexer": "ipython3",
      "version": "3.11.5"
    },
    "colab": {
      "provenance": [],
      "include_colab_link": true
    }
  },
  "nbformat": 4,
  "nbformat_minor": 5
}