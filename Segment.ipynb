{
  "cells": [
    {
      "cell_type": "markdown",
      "metadata": {
        "id": "view-in-github",
        "colab_type": "text"
      },
      "source": [
        "<a href=\"https://colab.research.google.com/github/guswns3396/PSYC-221-Project/blob/main/Segment.ipynb\" target=\"_parent\"><img src=\"https://colab.research.google.com/assets/colab-badge.svg\" alt=\"Open In Colab\"/></a>"
      ]
    },
    {
      "cell_type": "code",
      "source": [
        "!git clone https://github.com/guswns3396/PSYC-221-Project.git"
      ],
      "metadata": {
        "id": "RqryNYYlFZmw",
        "outputId": "10d069ef-2d9b-4420-b39e-0e2324d4e205",
        "colab": {
          "base_uri": "https://localhost:8080/"
        }
      },
      "id": "RqryNYYlFZmw",
      "execution_count": 1,
      "outputs": [
        {
          "output_type": "stream",
          "name": "stdout",
          "text": [
            "Cloning into 'PSYC-221-Project'...\n",
            "remote: Enumerating objects: 919, done.\u001b[K\n",
            "remote: Counting objects: 100% (285/285), done.\u001b[K\n",
            "remote: Compressing objects: 100% (282/282), done.\u001b[K\n",
            "remote: Total 919 (delta 9), reused 269 (delta 0), pack-reused 634\u001b[K\n",
            "Receiving objects: 100% (919/919), 2.52 GiB | 25.18 MiB/s, done.\n",
            "Resolving deltas: 100% (113/113), done.\n",
            "Updating files: 100% (732/732), done.\n"
          ]
        }
      ]
    },
    {
      "cell_type": "code",
      "execution_count": 2,
      "id": "5a01266a",
      "metadata": {
        "id": "5a01266a"
      },
      "outputs": [],
      "source": [
        "import os\n",
        "from pathlib import Path\n",
        "\n",
        "import nibabel as nib\n",
        "import numpy as np\n",
        "import pandas as pd\n",
        "import matplotlib.pyplot as plt\n",
        "\n",
        "import torch\n",
        "from torch.utils.data import Dataset"
      ]
    },
    {
      "cell_type": "markdown",
      "source": [
        "# Change Working Directory"
      ],
      "metadata": {
        "id": "skm4VTaIGc-n"
      },
      "id": "skm4VTaIGc-n"
    },
    {
      "cell_type": "code",
      "source": [
        "os.getcwd()"
      ],
      "metadata": {
        "id": "euNPfPkfGIID",
        "outputId": "0e93542c-2a39-4976-8b5a-6e5e0f894f3b",
        "colab": {
          "base_uri": "https://localhost:8080/",
          "height": 35
        }
      },
      "id": "euNPfPkfGIID",
      "execution_count": 3,
      "outputs": [
        {
          "output_type": "execute_result",
          "data": {
            "text/plain": [
              "'/content'"
            ],
            "application/vnd.google.colaboratory.intrinsic+json": {
              "type": "string"
            }
          },
          "metadata": {},
          "execution_count": 3
        }
      ]
    },
    {
      "cell_type": "code",
      "source": [
        "os.chdir('PSYC-221-Project')"
      ],
      "metadata": {
        "id": "O2yd05XjN0_1"
      },
      "id": "O2yd05XjN0_1",
      "execution_count": 4,
      "outputs": []
    },
    {
      "cell_type": "code",
      "source": [
        "os.listdir()"
      ],
      "metadata": {
        "id": "xw9eZqktN53Q",
        "outputId": "7c6d18b5-29d8-46cb-9e21-40b27cad2b74",
        "colab": {
          "base_uri": "https://localhost:8080/"
        }
      },
      "id": "xw9eZqktN53Q",
      "execution_count": 5,
      "outputs": [
        {
          "output_type": "execute_result",
          "data": {
            "text/plain": [
              "['.gitignore', '.git', 'README.md', 'brainmetshare-3', 'Segment.ipynb']"
            ]
          },
          "metadata": {},
          "execution_count": 5
        }
      ]
    },
    {
      "cell_type": "code",
      "source": [
        "with open('README.md', 'w') as f:\n",
        "  f.write('Test')"
      ],
      "metadata": {
        "id": "t-Wuj0_QOFmy"
      },
      "id": "t-Wuj0_QOFmy",
      "execution_count": 6,
      "outputs": []
    },
    {
      "cell_type": "markdown",
      "source": [
        "# Load Data"
      ],
      "metadata": {
        "id": "GN3BAAIBGjT7"
      },
      "id": "GN3BAAIBGjT7"
    },
    {
      "cell_type": "code",
      "execution_count": null,
      "id": "a29a7bbd",
      "metadata": {
        "id": "a29a7bbd"
      },
      "outputs": [],
      "source": [
        "path_data = Path('brainmetshare-3')"
      ]
    },
    {
      "cell_type": "code",
      "execution_count": null,
      "id": "08f0321d",
      "metadata": {
        "id": "08f0321d"
      },
      "outputs": [],
      "source": [
        "subjs = pd.Series(os.listdir(path_data))"
      ]
    },
    {
      "cell_type": "code",
      "execution_count": null,
      "id": "1264c4cb",
      "metadata": {
        "id": "1264c4cb"
      },
      "outputs": [],
      "source": [
        "IMG_TYPES = {\n",
        "    'bravo': 0,\n",
        "    'flair': 1,\n",
        "    't1_gd': 2,\n",
        "    't1_pre': 3,\n",
        "    'seg': 4\n",
        "}"
      ]
    },
    {
      "cell_type": "code",
      "execution_count": null,
      "id": "ba23d803",
      "metadata": {
        "id": "ba23d803"
      },
      "outputs": [],
      "source": []
    }
  ],
  "metadata": {
    "kernelspec": {
      "display_name": "Python 3 (ipykernel)",
      "language": "python",
      "name": "python3"
    },
    "language_info": {
      "codemirror_mode": {
        "name": "ipython",
        "version": 3
      },
      "file_extension": ".py",
      "mimetype": "text/x-python",
      "name": "python",
      "nbconvert_exporter": "python",
      "pygments_lexer": "ipython3",
      "version": "3.11.5"
    },
    "colab": {
      "provenance": [],
      "include_colab_link": true
    }
  },
  "nbformat": 4,
  "nbformat_minor": 5
}